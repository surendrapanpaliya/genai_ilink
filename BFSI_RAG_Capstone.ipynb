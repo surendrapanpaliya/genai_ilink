{
 "cells": [
  {
   "cell_type": "markdown",
   "id": "04ba562b",
   "metadata": {},
   "source": [
    "# BFSI RAG Capstone with LangGraph and GPT-5\n",
    "\n",
    "This notebook implements a step-by-step capstone project for the BFSI domain, using a small Excel dataset and three scenarios:\n",
    "\n",
    "1. Read a BFSI sample Excel file using LangChain tools, build an Agent for exploratory analysis, generate a bar plot, and produce a summary report.\n",
    "2. Insert the Excel data into a Chroma vector database and implement a Retrieval-Augmented Generation (RAG) flow using a GPT-5 agent.\n",
    "3. Extend the solution with a Model Context Protocol (MCP) Server and Client to manage tools, then wire it into a LangGraph RAG pipeline for an enterprise-grade solution.\n",
    "4. Provide FastAPI containerization and deployment scaffolding (Docker/Azure) to run the solution as a service.\n",
    "\n",
    "All code is written with clear, incremental steps. You can adapt the components to your enterprise datasets and infrastructure."
   ]
  },
  {
   "cell_type": "markdown",
   "id": "1f85f36f",
   "metadata": {},
   "source": [
    "## 0. Environment Setup\n",
    "\n",
    "Install the required packages and configure environment variables.\n",
    "\n",
    "- Python 3.10+ suggested\n",
    "- Create a virtual environment, then install dependencies\n",
    "- Add your OpenAI API key as `OPENAI_API_KEY`\n",
    "\n",
    "Suggested commands:\n",
    "```\n",
    "python -m venv bfsi\n",
    "source bfsi/bin/activate  # or .\\bfsi\\Scripts\\activate on Windows\n",
    "pip install -r requirements.txt\n",
    "export OPENAI_API_KEY=\"sk-...\"\n",
    "```"
   ]
  },
  {
   "cell_type": "code",
   "execution_count": 1,
   "id": "7cebee1f",
   "metadata": {},
   "outputs": [
    {
     "name": "stdout",
     "output_type": "stream",
     "text": [
      "welcome to bfsI capstone\n"
     ]
    }
   ],
   "source": [
    "print(\"welcome to bfsI capstone\")"
   ]
  },
  {
   "cell_type": "code",
   "execution_count": null,
   "id": "8157ab27",
   "metadata": {},
   "outputs": [],
   "source": [
    "file_path='/Users/surendra/gen_ai/ilink/bfsi_capstone/data/bfsi_sample.xlsx'"
   ]
  },
  {
   "cell_type": "code",
   "execution_count": 4,
   "id": "6252b640",
   "metadata": {},
   "outputs": [
    {
     "name": "stdout",
     "output_type": "stream",
     "text": [
      "  TransactionID CustomerID AccountType   Region             Sector  \\\n",
      "0       TXN1000   CUST2000     Savings     West  Wealth Management   \n",
      "1       TXN1001   CUST2001     Savings    North  Wealth Management   \n",
      "2       TXN1002   CUST2002  CreditCard     East  Corporate Banking   \n",
      "3       TXN1003   CUST2003     Current     East  Wealth Management   \n",
      "4       TXN1004   CUST2004     Current  Central     Retail Banking   \n",
      "5       TXN1005   CUST2005     Current     East           Payments   \n",
      "6       TXN1006   CUST2006     Savings    North  Corporate Banking   \n",
      "7       TXN1007   CUST2007     Savings     West           Payments   \n",
      "8       TXN1008   CUST2008        Loan  Central  Corporate Banking   \n",
      "9       TXN1009   CUST2009     Savings    North  Corporate Banking   \n",
      "\n",
      "      TxnDate  AmountINR    Channel RiskLevel      Description  \n",
      "0  2023-10-20  217665.24        ATM       Low    Fund transfer  \n",
      "1  2024-06-26  227134.99  MobileApp       Low      EMI payment  \n",
      "2  2023-10-13  476931.06  MobileApp      High      EMI payment  \n",
      "3  2024-05-20  437988.54        POS      High  Cash withdrawal  \n",
      "4  2024-06-22  132062.83        ATM       Low  Utility payment  \n",
      "5  2025-05-27  250542.76  MobileApp       Low    Salary credit  \n",
      "6  2025-03-28   89736.61        Web       Low  Utility payment  \n",
      "7  2025-01-11  456357.61        ATM       Low      EMI payment  \n",
      "8  2024-03-25  435324.03        ATM    Medium    Fund transfer  \n",
      "9  2023-10-11  149573.17        POS       Low    Salary credit  \n"
     ]
    }
   ],
   "source": [
    "import pandas as pd\n",
    "\n",
    "file_path = 'data/bfsi_sample.xlsx'\n",
    "\n",
    "df = pd.read_excel(file_path)\n",
    "print(df.head(10))"
   ]
  },
  {
   "cell_type": "code",
   "execution_count": 5,
   "id": "da2bf8b6",
   "metadata": {},
   "outputs": [
    {
     "data": {
      "text/plain": [
       "Index(['TransactionID', 'CustomerID', 'AccountType', 'Region', 'Sector',\n",
       "       'TxnDate', 'AmountINR', 'Channel', 'RiskLevel', 'Description'],\n",
       "      dtype='object')"
      ]
     },
     "execution_count": 5,
     "metadata": {},
     "output_type": "execute_result"
    }
   ],
   "source": [
    "df.columns"
   ]
  },
  {
   "cell_type": "code",
   "execution_count": 6,
   "id": "0408e28e",
   "metadata": {},
   "outputs": [
    {
     "name": "stdout",
     "output_type": "stream",
     "text": [
      "<class 'pandas.core.frame.DataFrame'>\n",
      "RangeIndex: 30 entries, 0 to 29\n",
      "Data columns (total 10 columns):\n",
      " #   Column         Non-Null Count  Dtype  \n",
      "---  ------         --------------  -----  \n",
      " 0   TransactionID  30 non-null     object \n",
      " 1   CustomerID     30 non-null     object \n",
      " 2   AccountType    30 non-null     object \n",
      " 3   Region         30 non-null     object \n",
      " 4   Sector         30 non-null     object \n",
      " 5   TxnDate        30 non-null     object \n",
      " 6   AmountINR      30 non-null     float64\n",
      " 7   Channel        30 non-null     object \n",
      " 8   RiskLevel      30 non-null     object \n",
      " 9   Description    30 non-null     object \n",
      "dtypes: float64(1), object(9)\n",
      "memory usage: 2.5+ KB\n"
     ]
    }
   ],
   "source": [
    "df.info()"
   ]
  },
  {
   "cell_type": "code",
   "execution_count": 7,
   "id": "e1aa41b3",
   "metadata": {},
   "outputs": [
    {
     "data": {
      "text/plain": [
       "(30, 10)"
      ]
     },
     "execution_count": 7,
     "metadata": {},
     "output_type": "execute_result"
    }
   ],
   "source": [
    "df.shape"
   ]
  },
  {
   "cell_type": "code",
   "execution_count": 8,
   "id": "a64b70e5",
   "metadata": {},
   "outputs": [
    {
     "data": {
      "text/html": [
       "<div>\n",
       "<style scoped>\n",
       "    .dataframe tbody tr th:only-of-type {\n",
       "        vertical-align: middle;\n",
       "    }\n",
       "\n",
       "    .dataframe tbody tr th {\n",
       "        vertical-align: top;\n",
       "    }\n",
       "\n",
       "    .dataframe thead th {\n",
       "        text-align: right;\n",
       "    }\n",
       "</style>\n",
       "<table border=\"1\" class=\"dataframe\">\n",
       "  <thead>\n",
       "    <tr style=\"text-align: right;\">\n",
       "      <th></th>\n",
       "      <th>AmountINR</th>\n",
       "    </tr>\n",
       "  </thead>\n",
       "  <tbody>\n",
       "    <tr>\n",
       "      <th>count</th>\n",
       "      <td>30.000000</td>\n",
       "    </tr>\n",
       "    <tr>\n",
       "      <th>mean</th>\n",
       "      <td>259723.025667</td>\n",
       "    </tr>\n",
       "    <tr>\n",
       "      <th>std</th>\n",
       "      <td>161520.296380</td>\n",
       "    </tr>\n",
       "    <tr>\n",
       "      <th>min</th>\n",
       "      <td>785.660000</td>\n",
       "    </tr>\n",
       "    <tr>\n",
       "      <th>25%</th>\n",
       "      <td>136440.415000</td>\n",
       "    </tr>\n",
       "    <tr>\n",
       "      <th>50%</th>\n",
       "      <td>257977.210000</td>\n",
       "    </tr>\n",
       "    <tr>\n",
       "      <th>75%</th>\n",
       "      <td>430472.255000</td>\n",
       "    </tr>\n",
       "    <tr>\n",
       "      <th>max</th>\n",
       "      <td>476931.060000</td>\n",
       "    </tr>\n",
       "  </tbody>\n",
       "</table>\n",
       "</div>"
      ],
      "text/plain": [
       "           AmountINR\n",
       "count      30.000000\n",
       "mean   259723.025667\n",
       "std    161520.296380\n",
       "min       785.660000\n",
       "25%    136440.415000\n",
       "50%    257977.210000\n",
       "75%    430472.255000\n",
       "max    476931.060000"
      ]
     },
     "execution_count": 8,
     "metadata": {},
     "output_type": "execute_result"
    }
   ],
   "source": [
    "df.describe()"
   ]
  },
  {
   "cell_type": "code",
   "execution_count": 11,
   "id": "ba818bda",
   "metadata": {},
   "outputs": [
    {
     "data": {
      "text/plain": [
       "Index(['TransactionID', 'CustomerID', 'AccountType', 'Region', 'Sector',\n",
       "       'TxnDate', 'AmountINR', 'Channel', 'RiskLevel', 'Description'],\n",
       "      dtype='object')"
      ]
     },
     "execution_count": 11,
     "metadata": {},
     "output_type": "execute_result"
    }
   ],
   "source": [
    "df.columns"
   ]
  },
  {
   "cell_type": "code",
   "execution_count": 12,
   "id": "89af8f49",
   "metadata": {},
   "outputs": [
    {
     "data": {
      "text/plain": [
       "<Axes: xlabel='CustomerID'>"
      ]
     },
     "execution_count": 12,
     "metadata": {},
     "output_type": "execute_result"
    },
    {
     "data": {
      "image/png": "[encoded data removed]",
      "text/plain": [
       "<Figure size 640x480 with 1 Axes>"
      ]
     },
     "metadata": {},
     "output_type": "display_data"
    }
   ],
   "source": [
    "df.plot(x='CustomerID', y='AmountINR', kind='bar')"
   ]
  },
  {
   "cell_type": "code",
   "execution_count": 2,
   "id": "16b17040",
   "metadata": {},
   "outputs": [
    {
     "name": "stdout",
     "output_type": "stream",
     "text": [
      "Data directory: /Users/surendra/gen_ai/ilink/bfsi_capstone/data\n",
      "Expecting sample file at: /Users/surendra/gen_ai/ilink/bfsi_capstone/data/bfsi_sample.xlsx\n"
     ]
    }
   ],
   "source": [
    "import os\n",
    "from pathlib import Path\n",
    "\n",
    "DATA_DIR = Path(\"data\")\n",
    "DATA_DIR.mkdir(exist_ok=True, parents=True)\n",
    "print(\"Data directory:\", DATA_DIR.resolve())\n",
    "\n",
    "# If running outside this environment, copy your Excel file into ./data\n",
    "SAMPLE_XLSX = DATA_DIR / \"bfsi_sample.xlsx\"\n",
    "\n",
    "# If the sample file is not present, you can generate one using pandas, or copy from the provided files\n",
    "print(\"Expecting sample file at:\", SAMPLE_XLSX.resolve())"
   ]
  },
  {
   "cell_type": "markdown",
   "id": "4b1d9c08",
   "metadata": {},
   "source": [
    "## 1. Scenario 1 — Read BFSI Excel with LangChain, Analyze via Agent, Plot, and Summarize\n",
    "\n",
    "Goals:\n",
    "- Load the Excel file into a DataFrame\n",
    "- Wrap it with LangChain tools\n",
    "- Build a lightweight LangGraph agent that can decide when to use the analysis tool\n",
    "- Produce a bar plot of aggregated metrics\n",
    "- Generate a concise summary report in Markdown"
   ]
  },
  {
   "cell_type": "code",
   "execution_count": 3,
   "id": "609ba83c",
   "metadata": {},
   "outputs": [
    {
     "data": {
      "text/html": [
       "<div>\n",
       "<style scoped>\n",
       "    .dataframe tbody tr th:only-of-type {\n",
       "        vertical-align: middle;\n",
       "    }\n",
       "\n",
       "    .dataframe tbody tr th {\n",
       "        vertical-align: top;\n",
       "    }\n",
       "\n",
       "    .dataframe thead th {\n",
       "        text-align: right;\n",
       "    }\n",
       "</style>\n",
       "<table border=\"1\" class=\"dataframe\">\n",
       "  <thead>\n",
       "    <tr style=\"text-align: right;\">\n",
       "      <th></th>\n",
       "      <th>TransactionID</th>\n",
       "      <th>CustomerID</th>\n",
       "      <th>AccountType</th>\n",
       "      <th>Region</th>\n",
       "      <th>Sector</th>\n",
       "      <th>TxnDate</th>\n",
       "      <th>AmountINR</th>\n",
       "      <th>Channel</th>\n",
       "      <th>RiskLevel</th>\n",
       "      <th>Description</th>\n",
       "    </tr>\n",
       "  </thead>\n",
       "  <tbody>\n",
       "    <tr>\n",
       "      <th>0</th>\n",
       "      <td>TXN1000</td>\n",
       "      <td>CUST2000</td>\n",
       "      <td>Savings</td>\n",
       "      <td>West</td>\n",
       "      <td>Wealth Management</td>\n",
       "      <td>2023-10-20</td>\n",
       "      <td>217665.24</td>\n",
       "      <td>ATM</td>\n",
       "      <td>Low</td>\n",
       "      <td>Fund transfer</td>\n",
       "    </tr>\n",
       "    <tr>\n",
       "      <th>1</th>\n",
       "      <td>TXN1001</td>\n",
       "      <td>CUST2001</td>\n",
       "      <td>Savings</td>\n",
       "      <td>North</td>\n",
       "      <td>Wealth Management</td>\n",
       "      <td>2024-06-26</td>\n",
       "      <td>227134.99</td>\n",
       "      <td>MobileApp</td>\n",
       "      <td>Low</td>\n",
       "      <td>EMI payment</td>\n",
       "    </tr>\n",
       "    <tr>\n",
       "      <th>2</th>\n",
       "      <td>TXN1002</td>\n",
       "      <td>CUST2002</td>\n",
       "      <td>CreditCard</td>\n",
       "      <td>East</td>\n",
       "      <td>Corporate Banking</td>\n",
       "      <td>2023-10-13</td>\n",
       "      <td>476931.06</td>\n",
       "      <td>MobileApp</td>\n",
       "      <td>High</td>\n",
       "      <td>EMI payment</td>\n",
       "    </tr>\n",
       "    <tr>\n",
       "      <th>3</th>\n",
       "      <td>TXN1003</td>\n",
       "      <td>CUST2003</td>\n",
       "      <td>Current</td>\n",
       "      <td>East</td>\n",
       "      <td>Wealth Management</td>\n",
       "      <td>2024-05-20</td>\n",
       "      <td>437988.54</td>\n",
       "      <td>POS</td>\n",
       "      <td>High</td>\n",
       "      <td>Cash withdrawal</td>\n",
       "    </tr>\n",
       "    <tr>\n",
       "      <th>4</th>\n",
       "      <td>TXN1004</td>\n",
       "      <td>CUST2004</td>\n",
       "      <td>Current</td>\n",
       "      <td>Central</td>\n",
       "      <td>Retail Banking</td>\n",
       "      <td>2024-06-22</td>\n",
       "      <td>132062.83</td>\n",
       "      <td>ATM</td>\n",
       "      <td>Low</td>\n",
       "      <td>Utility payment</td>\n",
       "    </tr>\n",
       "  </tbody>\n",
       "</table>\n",
       "</div>"
      ],
      "text/plain": [
       "  TransactionID CustomerID AccountType   Region             Sector  \\\n",
       "0       TXN1000   CUST2000     Savings     West  Wealth Management   \n",
       "1       TXN1001   CUST2001     Savings    North  Wealth Management   \n",
       "2       TXN1002   CUST2002  CreditCard     East  Corporate Banking   \n",
       "3       TXN1003   CUST2003     Current     East  Wealth Management   \n",
       "4       TXN1004   CUST2004     Current  Central     Retail Banking   \n",
       "\n",
       "      TxnDate  AmountINR    Channel RiskLevel      Description  \n",
       "0  2023-10-20  217665.24        ATM       Low    Fund transfer  \n",
       "1  2024-06-26  227134.99  MobileApp       Low      EMI payment  \n",
       "2  2023-10-13  476931.06  MobileApp      High      EMI payment  \n",
       "3  2024-05-20  437988.54        POS      High  Cash withdrawal  \n",
       "4  2024-06-22  132062.83        ATM       Low  Utility payment  "
      ]
     },
     "execution_count": 3,
     "metadata": {},
     "output_type": "execute_result"
    }
   ],
   "source": [
    "import pandas as pd\n",
    "import matplotlib.pyplot as plt\n",
    "\n",
    "df = pd.read_excel(SAMPLE_XLSX)\n",
    "df.head()"
   ]
  },
  {
   "cell_type": "markdown",
   "id": "50222237",
   "metadata": {},
   "source": [
    "### 1.1 Create a Pandas analysis tool\n",
    "\n",
    "This tool exposes a few safe aggregation functions for the agent to call. You can extend it with more domain logic."
   ]
  },
  {
   "cell_type": "code",
   "execution_count": 4,
   "id": "59e121cb",
   "metadata": {},
   "outputs": [],
   "source": [
    "from typing import Literal, Optional\n",
    "import io\n",
    "\n",
    "def aggregate_metric(df: pd.DataFrame, group_col: str, metric_col: str, agg: Literal[\"sum\", \"mean\", \"count\"]=\"sum\", top_k: int=10):\n",
    "    if group_col not in df.columns or metric_col not in df.columns:\n",
    "        raise ValueError(\"Invalid columns for aggregation\")\n",
    "    grouped = None\n",
    "    if agg == \"sum\":\n",
    "        grouped = df.groupby(group_col)[metric_col].sum().sort_values(ascending=False).head(top_k)\n",
    "    elif agg == \"mean\":\n",
    "        grouped = df.groupby(group_col)[metric_col].mean().sort_values(ascending=False).head(top_k)\n",
    "    elif agg == \"count\":\n",
    "        grouped = df.groupby(group_col)[metric_col].count().sort_values(ascending=False).head(top_k)\n",
    "    else:\n",
    "        raise ValueError(\"Unsupported aggregation\")\n",
    "    return grouped.reset_index()"
   ]
  },
  {
   "cell_type": "markdown",
   "id": "82299508",
   "metadata": {},
   "source": [
    "### 1.2 Build a simple LangGraph agent\n",
    "\n",
    "The agent has access to:\n",
    "- A planner using GPT-5\n",
    "- A tool node that runs `aggregate_metric`\n",
    "- A reporter that returns either data or a plot and a short summary\n",
    "\n",
    "Note: Replace `gpt-5` with the current model name in your environment if needed."
   ]
  },
  {
   "cell_type": "code",
   "execution_count": 14,
   "id": "bc7816f7",
   "metadata": {},
   "outputs": [
    {
     "name": "stdout",
     "output_type": "stream",
     "text": [
      "Plot saved at: outputs/scenario1_bar.png\n",
      "Summary saved at: outputs/scenario1_report.md\n"
     ]
    },
    {
     "data": {
      "image/png": "[encoded data removed]",
      "text/plain": [
       "<Figure size 640x480 with 1 Axes>"
      ]
     },
     "metadata": {},
     "output_type": "display_data"
    }
   ],
   "source": [
    "import os\n",
    "from langgraph.graph import StateGraph, END\n",
    "from typing import TypedDict, List, Dict, Any\n",
    "\n",
    "from langchain_openai import ChatOpenAI\n",
    "\n",
    "class AgentState(TypedDict, total=False):\n",
    "    query: str\n",
    "    plan: str\n",
    "    tool_args: Dict[str, Any]\n",
    "    result_table: Any\n",
    "    plot_path: str\n",
    "    summary_md: str\n",
    "\n",
    "# LLM (Planner/Reporter)\n",
    "llm = ChatOpenAI(model=\"gpt-5\", temperature=0)\n",
    "\n",
    "def plan_node(state: AgentState) -> AgentState:\n",
    "    prompt = f\"\"\"You are a BFSI data analysis planner.\n",
    "User question: {state.get('query')}\n",
    "Choose one group column from {list(df.columns)} and one metric from ['AmountINR'].\n",
    "Decide an aggregation among ['sum','mean','count'] and return a JSON with keys: group_col, metric_col, agg, top_k.\n",
    "\"\"\"\n",
    "    resp = llm.invoke(prompt)\n",
    "    # naive parse; in practice, add robust JSON parsing\n",
    "    import json, re\n",
    "    match = re.search(r\"\\{[\\s\\S]*\\}\", resp.content)\n",
    "    tool_args = {\"group_col\":\"Region\",\"metric_col\":\"AmountINR\",\"agg\":\"sum\",\"top_k\":5}\n",
    "    if match:\n",
    "        try:\n",
    "            tool_args = json.loads(match.group(0))\n",
    "        except Exception:\n",
    "            pass\n",
    "    return {\"plan\": resp.content, \"tool_args\": tool_args}\n",
    "\n",
    "def tool_node(state: AgentState) -> AgentState:\n",
    "    args = state[\"tool_args\"]\n",
    "    table = aggregate_metric(df, **args)\n",
    "    return {\"result_table\": table}\n",
    "\n",
    "def reporter_node(state: AgentState) -> AgentState:\n",
    "    table = state[\"result_table\"]\n",
    "\n",
    "    # Plot\n",
    "    fig = plt.figure()\n",
    "    table.plot(kind=\"bar\", x=table.columns[0], y=table.columns[1], legend=False)\n",
    "    plt.title(\"BFSI Aggregation\")\n",
    "    plt.xlabel(table.columns[0])\n",
    "    plt.ylabel(table.columns[1])\n",
    "    plot_path = \"outputs/scenario1_bar.png\"\n",
    "    Path(\"outputs\").mkdir(exist_ok=True, parents=True)\n",
    "    plt.tight_layout()\n",
    "    plt.savefig(plot_path, dpi=150)\n",
    "    plt.close(fig)\n",
    "\n",
    "    # Summary\n",
    "    top_rows = table.head(3).to_dict(orient=\"records\")\n",
    "    prompt = f\"\"\"Summarize the aggregation findings in 120-200 words for a BFSI analyst.\n",
    "Input top rows: {top_rows}\n",
    "Also describe what the bar chart conveys.\n",
    "\"\"\"\n",
    "    summary = llm.invoke(prompt).content\n",
    "    # Save report\n",
    "    report_md = f\"# Scenario 1 Summary\\n\\n{summary}\\n\\n![Bar Plot]({plot_path})\\n\"\n",
    "    Path(\"outputs\").mkdir(exist_ok=True, parents=True)\n",
    "    with open(\"outputs/scenario1_report.md\", \"w\") as f:\n",
    "        f.write(report_md)\n",
    "    return {\"plot_path\": plot_path, \"summary_md\": report_md}\n",
    "\n",
    "# Build graph\n",
    "graph = StateGraph(AgentState)\n",
    "graph.add_node(\"planner\", plan_node)\n",
    "graph.add_node(\"tool\", tool_node)\n",
    "graph.add_node(\"reporter\", reporter_node)\n",
    "graph.set_entry_point(\"planner\")\n",
    "graph.add_edge(\"planner\", \"tool\")\n",
    "graph.add_edge(\"tool\", \"reporter\")\n",
    "graph.add_edge(\"reporter\", END)\n",
    "agent = graph.compile()\n",
    "\n",
    "output = agent.invoke({\"query\": \"Find the top regions by total AmountINR and explain briefly.\"})\n",
    "output.keys()\n",
    "\n",
    "print(\"Plot saved at:\", output[\"plot_path\"])\n",
    "print(\"Summary saved at: outputs/scenario1_report.md\")\n"
   ]
  },
  {
   "cell_type": "markdown",
   "id": "9b092957",
   "metadata": {},
   "source": [
    "Open the generated files:\n",
    "- `outputs/scenario1_bar.png`\n",
    "- `outputs/scenario1_report.md`"
   ]
  },
  {
   "cell_type": "markdown",
   "id": "a23ce19c",
   "metadata": {},
   "source": [
    "## 2. Scenario 2 — ChromaDB RAG with GPT-5 Agent\n",
    "\n",
    "Steps:\n",
    "1. Transform each Excel row into a text chunk suitable for retrieval.\n",
    "2. Create a Chroma collection and insert the chunks with embeddings.\n",
    "3. Build a retriever and a LangGraph that orchestrates query, retrieve, and answer."
   ]
  },
  {
   "cell_type": "code",
   "execution_count": 7,
   "id": "d4a6d04d",
   "metadata": {},
   "outputs": [
    {
     "data": {
      "text/plain": [
       "['TransactionID: TXN1014; CustomerID: CUST2014; AccountType: Savings; Region: Central; Sector: Corporate Banking; TxnDate: 2023-08-13; AmountINR: 269919.83; Channel: POS; RiskLevel: Medium; Description: Cash withdrawal.',\n",
       " 'TransactionID: TXN1003; CustomerID: CUST2003; AccountType: Current; Region: East; Sector: Wealth Management; TxnDate: 2024-05-20; AmountINR: 437988.54; Channel: POS; RiskLevel: High; Description: Cash withdrawal.',\n",
       " 'TransactionID: TXN1022; CustomerID: CUST2022; AccountType: Loan; Region: North; Sector: Retail Banking; TxnDate: 2025-12-19; AmountINR: 415916.93; Channel: Branch; RiskLevel: Low; Description: Cash withdrawal.']"
      ]
     },
     "execution_count": 7,
     "metadata": {},
     "output_type": "execute_result"
    }
   ],
   "source": [
    "from langchain_openai import OpenAIEmbeddings\n",
    "import chromadb\n",
    "from chromadb.utils import embedding_functions\n",
    "\n",
    "# Prepare documents from rows\n",
    "def row_to_text(row: pd.Series) -> str:\n",
    "    return (\n",
    "        f\"TransactionID: {row['TransactionID']}; CustomerID: {row['CustomerID']}; \"\n",
    "        f\"AccountType: {row['AccountType']}; Region: {row['Region']}; Sector: {row['Sector']}; \"\n",
    "        f\"TxnDate: {row['TxnDate']}; AmountINR: {row['AmountINR']}; Channel: {row['Channel']}; \"\n",
    "        f\"RiskLevel: {row['RiskLevel']}; Description: {row['Description']}.\"\n",
    "    )\n",
    "\n",
    "docs = [row_to_text(r) for _, r in df.iterrows()]\n",
    "\n",
    "client = chromadb.Client()\n",
    "collection = client.get_or_create_collection(\"bfsi_rag\")\n",
    "\n",
    "# Use OpenAI embeddings\n",
    "emb = OpenAIEmbeddings(model=\"text-embedding-3-large\")\n",
    "vectors = emb.embed_documents(docs)\n",
    "\n",
    "ids = [f\"doc_{i}\" for i in range(len(docs))]\n",
    "collection.upsert(ids=ids, embeddings=vectors, documents=docs)\n",
    "\n",
    "def retrieve_top_k(query: str, k: int=5):\n",
    "    qvec = emb.embed_query(query)\n",
    "    res = collection.query(query_embeddings=[qvec], n_results=k)\n",
    "    return [doc for doc in res[\"documents\"][0]]\n",
    "\n",
    "# Test retrieve\n",
    "retrieve_top_k(\"High value transactions in Retail Banking South region\", k=3)"
   ]
  },
  {
   "cell_type": "markdown",
   "id": "9ba61b3c",
   "metadata": {},
   "source": [
    "### 2.1 LangGraph RAG Orchestrator\n",
    "\n",
    "Nodes:\n",
    "- Planner: rewrite or refine the user question\n",
    "- Retriever: fetch top-k chunks from Chroma\n",
    "- Answerer: compose final answer using GPT-5 with retrieved context"
   ]
  },
  {
   "cell_type": "code",
   "execution_count": 15,
   "id": "e8039e51",
   "metadata": {},
   "outputs": [
    {
     "name": "stdout",
     "output_type": "stream",
     "text": [
      "Key patterns observed in high-risk transactions (based on the given records):\n",
      "\n",
      "- Regional concentration: East accounts for 2 of 3 high-risk transactions (TXN1002, TXN1003); North has 1 (TXN1019). None in West or Central in this sample.\n",
      "- Sector skew: Wealth Management has 2 high-risk events (TXN1003, TXN1019), both cash withdrawals; Corporate Banking has 1 high-risk event (TXN1002), an EMI payment. No high-risk fund transfers observed.\n",
      "- Channel profile: High-risk transactions occur via MobileAp\n"
     ]
    }
   ],
   "source": [
    "from typing import List, TypedDict\n",
    "from langgraph.graph import StateGraph, END\n",
    "\n",
    "class RAGState(TypedDict, total=False):\n",
    "    query: str\n",
    "    refined_query: str\n",
    "    contexts: List[str]\n",
    "    answer: str\n",
    "\n",
    "def rag_plan(state: RAGState) -> RAGState:\n",
    "    prompt = f\"Rewrite the BFSI question to be retrieval-friendly: {state.get('query')}\"\n",
    "    refined = llm.invoke(prompt).content\n",
    "    return {\"refined_query\": refined}\n",
    "\n",
    "def rag_retrieve(state: RAGState) -> RAGState:\n",
    "    contexts = retrieve_top_k(state[\"refined_query\"], k=5)\n",
    "    return {\"contexts\": contexts}\n",
    "\n",
    "def rag_generate_answer(state: RAGState) -> RAGState:  # <-- renamed function\n",
    "    ctx = \"\\n\".join(state[\"contexts\"])\n",
    "    prompt = f\"\"\"You are a BFSI RAG agent. Use the provided context to answer.\n",
    "Context:\n",
    "{ctx}\n",
    "\n",
    "Question:\n",
    "{state.get('query')}\n",
    "\n",
    "Answer with specifics grounded in the context, and note any uncertainties.\n",
    "\"\"\"\n",
    "    ans = llm.invoke(prompt).content\n",
    "    return {\"answer\": ans}\n",
    "\n",
    "# Build the graph with unique node names\n",
    "rag_graph = StateGraph(RAGState)\n",
    "rag_graph.add_node(\"plan\", rag_plan)\n",
    "rag_graph.add_node(\"retrieve\", rag_retrieve)\n",
    "rag_graph.add_node(\"responder\", rag_generate_answer)  # <-- renamed node\n",
    "rag_graph.set_entry_point(\"plan\")\n",
    "rag_graph.add_edge(\"plan\", \"retrieve\")\n",
    "rag_graph.add_edge(\"retrieve\", \"responder\")\n",
    "rag_graph.add_edge(\"responder\", END)\n",
    "\n",
    "rag = rag_graph.compile()\n",
    "\n",
    "rag_out = rag.invoke({\n",
    "    \"query\": \"List key patterns in high-risk transactions across sectors and regions.\"\n",
    "})\n",
    "print(rag_out[\"answer\"][:500])\n"
   ]
  },
  {
   "cell_type": "markdown",
   "id": "118894f3",
   "metadata": {},
   "source": [
    "## 3. Scenario 3 — MCP Server and Client Integration\n",
    "\n",
    "The Model Context Protocol (MCP) allows exposing tools/services via a standard protocol so that agents can discover and use them.\n",
    "\n",
    "We will:\n",
    "- Implement a minimal MCP Server exposing two tools: `get_dataframe_metrics` and `store_plot`.\n",
    "- Implement a minimal MCP Client that connects to the server and calls these tools from a LangGraph node.\n",
    "- Compose the MCP tools into the RAG pipeline to support enterprise extensibility."
   ]
  },
  {
   "cell_type": "code",
   "execution_count": 16,
   "id": "cc1a5f56",
   "metadata": {},
   "outputs": [
    {
     "name": "stdout",
     "output_type": "stream",
     "text": [
      "Wrote server_mcp.py\n"
     ]
    }
   ],
   "source": [
    "# server_mcp.py\n",
    "mcp_server_code = r'''\n",
    "import pandas as pd\n",
    "from mcp.server import Server, Tool\n",
    "\n",
    "df = pd.read_excel(\"data/bfsi_sample.xlsx\")\n",
    "\n",
    "def get_dataframe_metrics(group_col: str, metric_col: str, agg: str = \"sum\", top_k: int = 5):\n",
    "    if agg == \"sum\":\n",
    "        s = df.groupby(group_col)[metric_col].sum().sort_values(ascending=False).head(top_k)\n",
    "    elif agg == \"mean\":\n",
    "        s = df.groupby(group_col)[metric_col].mean().sort_values(ascending=False).head(top_k)\n",
    "    elif agg == \"count\":\n",
    "        s = df.groupby(group_col)[metric_col].count().sort_values(ascending=False).head(top_k)\n",
    "    else:\n",
    "        raise ValueError(\"Unsupported aggregation\")\n",
    "    return s.reset_index().to_dict(orient=\"records\")\n",
    "\n",
    "def store_plot(path: str, content_b64: str):\n",
    "    import base64\n",
    "    with open(path, \"wb\") as f:\n",
    "        f.write(base64.b64decode(content_b64))\n",
    "    return {\"status\": \"ok\", \"path\": path}\n",
    "\n",
    "server = Server()\n",
    "server.add_tool(Tool(\"get_dataframe_metrics\", get_dataframe_metrics))\n",
    "server.add_tool(Tool(\"store_plot\", store_plot))\n",
    "\n",
    "if __name__ == \"__main__\":\n",
    "    server.serve(\"127.0.0.1\", 8765)\n",
    "'''\n",
    "with open(\"server_mcp.py\", \"w\") as f:\n",
    "    f.write(mcp_server_code)\n",
    "print(\"Wrote server_mcp.py\")"
   ]
  },
  {
   "cell_type": "code",
   "execution_count": 17,
   "id": "75737dbe",
   "metadata": {},
   "outputs": [
    {
     "name": "stdout",
     "output_type": "stream",
     "text": [
      "Wrote client_mcp.py\n"
     ]
    }
   ],
   "source": [
    "# client_mcp.py\n",
    "mcp_client_code = r'''\n",
    "import asyncio\n",
    "import base64\n",
    "import io\n",
    "import matplotlib.pyplot as plt\n",
    "import pandas as pd\n",
    "from mcp.client import Client\n",
    "\n",
    "async def main():\n",
    "    client = Client(\"127.0.0.1\", 8765)\n",
    "    await client.connect()\n",
    "\n",
    "    metrics = await client.call_tool(\"get_dataframe_metrics\", {\n",
    "        \"group_col\": \"Region\",\n",
    "        \"metric_col\": \"AmountINR\",\n",
    "        \"agg\": \"sum\",\n",
    "        \"top_k\": 5\n",
    "    })\n",
    "    print(\"Metrics:\", metrics)\n",
    "\n",
    "    # Example: generate a plot and store via MCP\n",
    "    fig = plt.figure()\n",
    "    df = pd.DataFrame(metrics)\n",
    "    df.plot(kind=\"bar\", x=df.columns[0], y=df.columns[1], legend=False)\n",
    "    plt.tight_layout()\n",
    "    buf = io.BytesIO()\n",
    "    plt.savefig(buf, format=\"png\", dpi=150)\n",
    "    plt.close(fig)\n",
    "    img_b64 = base64.b64encode(buf.getvalue()).decode(\"utf-8\")\n",
    "\n",
    "    res = await client.call_tool(\"store_plot\", {\"path\": \"outputs/mcp_plot.png\", \"content_b64\": img_b64})\n",
    "    print(\"Store plot result:\", res)\n",
    "    await client.close()\n",
    "\n",
    "if __name__ == \"__main__\":\n",
    "    asyncio.run(main())\n",
    "'''\n",
    "with open(\"client_mcp.py\", \"w\") as f:\n",
    "    f.write(mcp_client_code)\n",
    "print(\"Wrote client_mcp.py\")"
   ]
  },
  {
   "cell_type": "markdown",
   "id": "8e55a543",
   "metadata": {},
   "source": [
    "To run the MCP components locally:\n",
    "1. `python server_mcp.py`\n",
    "2. In another terminal, `python client_mcp.py`\n",
    "\n",
    "Next, you can wrap MCP calls as LangGraph tool nodes and call them inside your RAG or analysis flows."
   ]
  },
  {
   "cell_type": "markdown",
   "id": "8038e8c1",
   "metadata": {},
   "source": [
    "## 4. FastAPI Containerization and Deployment\n",
    "\n",
    "This section provides a minimal FastAPI app exposing two endpoints:\n",
    "- `/analyze` for Scenario 1 style aggregation and plot\n",
    "- `/ask` for Scenario 2 RAG queries using Chroma\n",
    "\n",
    "It also includes a Dockerfile blueprint and Azure deployment hints."
   ]
  },
  {
   "cell_type": "code",
   "execution_count": 18,
   "id": "7ef20266",
   "metadata": {},
   "outputs": [
    {
     "name": "stdout",
     "output_type": "stream",
     "text": [
      "Wrote app.py\n"
     ]
    }
   ],
   "source": [
    "# app.py\n",
    "fastapi_code = r'''\n",
    "import os\n",
    "import io\n",
    "from pathlib import Path\n",
    "import pandas as pd\n",
    "import matplotlib.pyplot as plt\n",
    "from fastapi import FastAPI, Query\n",
    "from fastapi.responses import JSONResponse, StreamingResponse\n",
    "from langchain_openai import ChatOpenAI, OpenAIEmbeddings\n",
    "import chromadb\n",
    "\n",
    "app = FastAPI()\n",
    "DATA_FILE = Path(\"data/bfsi_sample.xlsx\")\n",
    "df = pd.read_excel(DATA_FILE)\n",
    "\n",
    "llm = ChatOpenAI(model=\"gpt-5\", temperature=0)\n",
    "emb = OpenAIEmbeddings(model=\"text-embedding-3-large\")\n",
    "\n",
    "client = chromadb.Client()\n",
    "collection = client.get_or_create_collection(\"bfsi_service\")\n",
    "if len(collection.get(ids=[]).get(\"ids\", [])) == 0:\n",
    "    docs = [\n",
    "        f\"TransactionID: {r.TransactionID}; CustomerID: {r.CustomerID}; AccountType: {r.AccountType}; Region: {r.Region}; \"\n",
    "        f\"Sector: {r.Sector}; TxnDate: {r.TxnDate}; AmountINR: {r.AmountINR}; Channel: {r.Channel}; \"\n",
    "        f\"RiskLevel: {r.RiskLevel}; Description: {r.Description}.\"\n",
    "        for _, r in df.iterrows()\n",
    "    ]\n",
    "    vectors = emb.embed_documents(docs)\n",
    "    ids = [f\"doc_{i}\" for i in range(len(docs))]\n",
    "    collection.upsert(ids=ids, embeddings=vectors, documents=docs)\n",
    "\n",
    "@app.get(\"/analyze\")\n",
    "def analyze(group_col: str = Query(\"Region\"), metric_col: str = Query(\"AmountINR\"), agg: str = Query(\"sum\"), top_k: int = Query(5)):\n",
    "    if agg == \"sum\":\n",
    "        s = df.groupby(group_col)[metric_col].sum().sort_values(ascending=False).head(top_k)\n",
    "    elif agg == \"mean\":\n",
    "        s = df.groupby(group_col)[metric_col].mean().sort_values(ascending=False).head(top_k)\n",
    "    elif agg == \"count\":\n",
    "        s = df.groupby(group_col)[metric_col].count().sort_values(ascending=False).head(top_k)\n",
    "    else:\n",
    "        return JSONResponse({\"error\": \"Unsupported aggregation\"}, status_code=400)\n",
    "\n",
    "    # Return data\n",
    "    data = s.reset_index().to_dict(orient=\"records\")\n",
    "    # Also render a chart\n",
    "    fig = plt.figure()\n",
    "    s.reset_index().plot(kind=\"bar\", x=group_col, y=metric_col, legend=False)\n",
    "    plt.tight_layout()\n",
    "    buf = io.BytesIO()\n",
    "    plt.savefig(buf, format=\"png\", dpi=150)\n",
    "    plt.close(fig)\n",
    "    buf.seek(0)\n",
    "    return StreamingResponse(buf, media_type=\"image/png\")\n",
    "\n",
    "@app.get(\"/ask\")\n",
    "def ask(q: str):\n",
    "    qvec = emb.embed_query(q)\n",
    "    res = collection.query(query_embeddings=[qvec], n_results=5)\n",
    "    ctx = \"\\n\".join(res[\"documents\"][0])\n",
    "    prompt = f\"Use the context to answer the BFSI question. Context:\\n{ctx}\\n\\nQuestion: {q}\"\n",
    "    ans = llm.invoke(prompt).content\n",
    "    return {\"answer\": ans}\n",
    "'''\n",
    "with open(\"app.py\", \"w\") as f:\n",
    "    f.write(fastapi_code)\n",
    "print(\"Wrote app.py\")"
   ]
  },
  {
   "cell_type": "code",
   "execution_count": 19,
   "id": "d1c3480c",
   "metadata": {},
   "outputs": [
    {
     "name": "stdout",
     "output_type": "stream",
     "text": [
      "Wrote Dockerfile\n"
     ]
    }
   ],
   "source": [
    "# Dockerfile\n",
    "dockerfile = r'''\n",
    "FROM python:3.11-slim\n",
    "\n",
    "WORKDIR /app\n",
    "COPY requirements.txt /app/requirements.txt\n",
    "RUN pip install --no-cache-dir -r requirements.txt\n",
    "\n",
    "COPY data /app/data\n",
    "COPY app.py /app/app.py\n",
    "\n",
    "ENV OPENAI_API_KEY=your_key_here\n",
    "EXPOSE 8000\n",
    "CMD [\"uvicorn\", \"app:app\", \"--host\", \"0.0.0.0\", \"--port\", \"8000\"]\n",
    "'''\n",
    "with open(\"Dockerfile\", \"w\") as f:\n",
    "    f.write(dockerfile)\n",
    "print(\"Wrote Dockerfile\")"
   ]
  },
  {
   "cell_type": "markdown",
   "id": "7b622908",
   "metadata": {},
   "source": [
    "### Azure Deployment Notes\n",
    "\n",
    "Option A: Azure Container Apps\n",
    "1. Build and push the image\n",
    "```\n",
    "az acr build --registry <ACR_NAME> --image bfsi-rag:latest .\n",
    "```\n",
    "2. Create a Container App from the image and set `OPENAI_API_KEY` as a secret or environment variable.\n",
    "\n",
    "Option B: Azure App Service (Linux Containers)\n",
    "1. Push the Docker image to ACR or Docker Hub.\n",
    "2. Create a Web App for Containers and set environment variables accordingly."
   ]
  }
 ],
 "metadata": {
  "kernelspec": {
   "display_name": "bfsi (3.11.8)",
   "language": "python",
   "name": "python3"
  },
  "language_info": {
   "codemirror_mode": {
    "name": "ipython",
    "version": 3
   },
   "file_extension": ".py",
   "mimetype": "text/x-python",
   "name": "python",
   "nbconvert_exporter": "python",
   "pygments_lexer": "ipython3",
   "version": "3.11.8"
  }
 },
 "nbformat": 4,
 "nbformat_minor": 5
}
