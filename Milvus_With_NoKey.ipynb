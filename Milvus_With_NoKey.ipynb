{
 "cells": [
  {
   "cell_type": "markdown",
   "id": "aaab143a",
   "metadata": {},
   "source": [
    "What is Milvus?\n",
    "\n",
    "Milvus is an open-source vector database designed to store and search large volumes of high-dimensional vector embeddings efficiently.\n",
    "\n",
    "Use case: Imagine you have 1 million text documents, and you’ve converted each into a 384-dimensional vector. Milvus helps you:\n",
    "\t•\tStore all those vectors.\n",
    "\t•\tSearch which stored document is most similar to a new query vector — fast and at scale."
   ]
  },
  {
   "cell_type": "markdown",
   "id": "26b64f0f",
   "metadata": {},
   "source": [
    "Why Milvus?\n",
    "\t•\tOptimized for similarity search (cosine, inner product, Euclidean).\n",
    "\t•\tScalable to billions of vectors.\n",
    "\t•\tIntegrates well with embedding models (like OpenAI, Hugging Face, SentenceTransformer).\n",
    "\t•\tSupports indexes like IVF, HNSW, and Flat for fast retrieval.\n",
    "\t•\tHas APIs in Python, REST, etc."
   ]
  },
  {
   "cell_type": "code",
   "execution_count": 2,
   "id": "12a515c5",
   "metadata": {},
   "outputs": [
    {
     "name": "stdout",
     "output_type": "stream",
     "text": [
      "✅ Connected to Milvus Cloud!\n"
     ]
    }
   ],
   "source": [
    "from pymilvus import connections\n",
    "\n",
    "connections.connect(\n",
    "    uri=cluster_endpoint,\n",
    "    token=api_key,\n",
    "    secure=True\n",
    ")\n",
    "\n",
    "print(\"✅ Connected to Milvus Cloud!\")"
   ]
  },
  {
   "cell_type": "code",
   "execution_count": 3,
   "id": "65fe656c",
   "metadata": {},
   "outputs": [],
   "source": [
    "docs = [\n",
    "    \"Walmart allows electronics returns within 30 days with a receipt.\",\n",
    "    \"Suppliers must complete onboarding forms before shipment approval.\",\n",
    "    \"Walmart Plus members get free shipping on all orders.\",\n",
    "    \"Returns on perishable items are not accepted beyond 7 days.\",\n",
    "    \"Employees can access HR policies via the internal portal.\"\n",
    "]"
   ]
  },
  {
   "cell_type": "code",
   "execution_count": null,
   "id": "7e9340d3",
   "metadata": {},
   "outputs": [],
   "source": [
    "from sentence_transformers import SentenceTransformer\n",
    "\n",
    "model = SentenceTransformer('all-MiniLM-L6-v2')\n",
    "embeddings = model.encode(docs)\n",
    "print(embeddings)"
   ]
  },
  {
   "cell_type": "markdown",
   "id": "1e3f9dd8",
   "metadata": {},
   "source": [
    "Loads a pre-trained Sentence Transformer model:\n",
    "\n",
    "This model converts sentences into dense vectors (embeddings).\n",
    "\n",
    "all-MiniLM-L6-v2 is a lightweight, fast, and effective model for text similarity and semantic search.\n",
    "\n",
    "Embeddings are numerical representations of text, typically 384-dimensional vectors for this model.\n",
    "\n",
    "docs is a list of strings (e.g., sentences, paragraphs, or documents).\n",
    "\n",
    "Each string gets converted into a vector.\n",
    "\n",
    "The output embeddings is a NumPy array of shape [num_docs, 384]."
   ]
  },
  {
   "cell_type": "code",
   "execution_count": null,
   "id": "a34b61e2",
   "metadata": {},
   "outputs": [],
   "source": [
    "pip install sentence-transformers pymilvus langchain"
   ]
  },
  {
   "cell_type": "code",
   "execution_count": null,
   "id": "6a51c6ef",
   "metadata": {},
   "outputs": [],
   "source": [
    "pip install \"milvus-lite==2.4.1\"  # for Walmart Element Platform"
   ]
  },
  {
   "cell_type": "code",
   "execution_count": 5,
   "id": "f6c55571",
   "metadata": {},
   "outputs": [],
   "source": [
    "import sqlite3"
   ]
  },
  {
   "cell_type": "code",
   "execution_count": 27,
   "id": "78ab2be7",
   "metadata": {},
   "outputs": [
    {
     "name": "stdout",
     "output_type": "stream",
     "text": [
      "Connected to Milvus Cloud is Successful \n"
     ]
    }
   ],
   "source": [
    "from pymilvus import connections\n",
    "\n",
    "# Use local storage (.db file)\n",
    "\n",
    "connections.connect(alias=\"default2\", uri=\"walmart_data2.db\")\n",
    "\n",
    "print(\"Connected to Milvus Cloud is Successful \")"
   ]
  },
  {
   "cell_type": "code",
   "execution_count": 28,
   "id": "991c2efd",
   "metadata": {},
   "outputs": [],
   "source": [
    "docs = [\n",
    "    \"Walmart allows electronics returns within 50 days with a receipt.\",\n",
    "    \"Suppliers must complete onboarding forms before shipment approval.\",\n",
    "    \"Walmart Plus members get free shipping on all orders.\",\n",
    "    \"Returns on perishable items are not accepted beyond 7 days.\",\n",
    "    \"Employees can access HR policies via the internal portal.\"\n",
    "]"
   ]
  },
  {
   "cell_type": "code",
   "execution_count": 5,
   "id": "4354c1d1",
   "metadata": {},
   "outputs": [],
   "source": [
    "docs = [\n",
    "    \"LTIMindtree employees must submit timesheets weekly through the internal portal.\",\n",
    "    \"Clients are required to sign the Statement of Work (SOW) before project initiation.\",\n",
    "    \"LTIMindtree provides free upskilling courses on AI and Cloud for all associates.\",\n",
    "    \"Leave requests must be approved by the reporting manager at least 3 days in advance.\",\n",
    "    \"Project teams can access compliance and security policies via the LTIMindtree intranet.\"\n",
    "]"
   ]
  },
  {
   "cell_type": "code",
   "execution_count": 6,
   "id": "ddd6ea30",
   "metadata": {},
   "outputs": [
    {
     "data": {
      "text/plain": [
       "['LTIMindtree employees must submit timesheets weekly through the internal portal.',\n",
       " 'Clients are required to sign the Statement of Work (SOW) before project initiation.',\n",
       " 'LTIMindtree provides free upskilling courses on AI and Cloud for all associates.',\n",
       " 'Leave requests must be approved by the reporting manager at least 3 days in advance.',\n",
       " 'Project teams can access compliance and security policies via the LTIMindtree intranet.']"
      ]
     },
     "execution_count": 6,
     "metadata": {},
     "output_type": "execute_result"
    }
   ],
   "source": [
    "[doc for doc in docs]"
   ]
  },
  {
   "cell_type": "code",
   "execution_count": 7,
   "id": "bf36b721",
   "metadata": {},
   "outputs": [
    {
     "name": "stdout",
     "output_type": "stream",
     "text": [
      "[[-0.03970195  0.0017197  -0.06133857 ...  0.05272065  0.10862722\n",
      "   0.00723266]\n",
      " [-0.04248329  0.05166248 -0.04707661 ...  0.03269951  0.01580414\n",
      "   0.00862307]\n",
      " [-0.06850354 -0.04223825  0.00804254 ... -0.03274461 -0.00976729\n",
      "  -0.03541669]\n",
      " [ 0.01848623  0.01614    -0.0055839  ...  0.03670225 -0.02595269\n",
      "   0.00541953]\n",
      " [-0.04755552  0.02677119 -0.05872783 ...  0.03248743  0.06940335\n",
      "  -0.04215242]]\n"
     ]
    }
   ],
   "source": [
    "from sentence_transformers import SentenceTransformer\n",
    "\n",
    "model = SentenceTransformer('all-MiniLM-L6-v2')\n",
    "embeddings = model.encode(docs)\n",
    "print(embeddings)"
   ]
  },
  {
   "cell_type": "code",
   "execution_count": 13,
   "id": "41dd130e",
   "metadata": {},
   "outputs": [
    {
     "name": "stdout",
     "output_type": "stream",
     "text": [
      "[[-0.02364307  0.04532686  0.09156336 ... -0.0599112   0.02255651\n",
      "   0.00900443]\n",
      " [-0.03858036 -0.05658962  0.01043053 ...  0.04141787  0.13493302\n",
      "  -0.0421605 ]\n",
      " [-0.02691722 -0.05574032  0.09135328 ... -0.08896992  0.06445432\n",
      "   0.0134097 ]\n",
      " [-0.05788542  0.02268525  0.06491429 ... -0.08462054 -0.03600617\n",
      "   0.00783663]\n",
      " [-0.04330171  0.0290013  -0.08033062 ...  0.03523532  0.08481064\n",
      "   0.03786615]]\n"
     ]
    }
   ],
   "source": [
    "print(embeddings)"
   ]
  },
  {
   "cell_type": "markdown",
   "id": "074a79b8",
   "metadata": {},
   "source": [
    "SentenceTransformer :Converts text to embeddings (vectors)\n",
    "\n",
    "embeddings = model.encode(docs)\n",
    "\n",
    "Transforms a list of documents to numerical vector format\n",
    "\n",
    "Milvus :A database that stores those vectors and enables fast similarity search\n",
    "Use case: Semantic search, recommendation systems, chatbots, deduplication, etc."
   ]
  },
  {
   "cell_type": "code",
   "execution_count": 8,
   "id": "ed934141",
   "metadata": {},
   "outputs": [],
   "source": [
    "from pymilvus import Collection, FieldSchema, CollectionSchema, DataType\n",
    "\n",
    "fields = [\n",
    "    FieldSchema(name=\"id\", dtype=DataType.INT64, is_primary=True, auto_id=True),\n",
    "    FieldSchema(name=\"content\", dtype=DataType.VARCHAR, max_length=512),\n",
    "    FieldSchema(name=\"embedding\", dtype=DataType.FLOAT_VECTOR, dim=384),\n",
    "]\n",
    "schema = CollectionSchema(fields)\n",
    "collection = Collection(\"LTIMindtree_docs\", schema)"
   ]
  },
  {
   "cell_type": "code",
   "execution_count": 9,
   "id": "e8f455eb",
   "metadata": {},
   "outputs": [
    {
     "data": {
      "text/plain": [
       "(insert count: 5, delete count: 0, upsert count: 0, timestamp: 460717463136894982, success count: 5, err count: 0, cost: 3)"
      ]
     },
     "execution_count": 9,
     "metadata": {},
     "output_type": "execute_result"
    }
   ],
   "source": [
    "insert_data = [\n",
    "    [doc for doc in docs],\n",
    "    [vec.tolist() for vec in embeddings]\n",
    "]\n",
    "collection.insert(insert_data)"
   ]
  },
  {
   "cell_type": "code",
   "execution_count": 10,
   "id": "6636d771",
   "metadata": {},
   "outputs": [],
   "source": [
    "collection.create_index(\n",
    "    field_name=\"embedding\",\n",
    "    index_params={\"index_type\": \"AUTOINDEX\", \"metric_type\": \"COSINE\"}\n",
    ")\n",
    "collection.load()"
   ]
  },
  {
   "cell_type": "code",
   "execution_count": 11,
   "id": "9a810946",
   "metadata": {},
   "outputs": [
    {
     "name": "stdout",
     "output_type": "stream",
     "text": [
      "💡 Top Match: Leave requests must be approved by the reporting manager at least 3 days in advance. → Score: 0.4324192404747009\n"
     ]
    }
   ],
   "source": [
    "query = \"What is LTIMIndtree Leave Policy?\"\n",
    "query_embedding = model.encode([query]).tolist()\n",
    "\n",
    "results = collection.search(\n",
    "    data=query_embedding,\n",
    "    anns_field=\"embedding\",\n",
    "    param={\"metric_type\": \"COSINE\", \"params\": {\"nprobe\": 10}},\n",
    "    limit=1,\n",
    "    output_fields=[\"content\"]\n",
    ")\n",
    "\n",
    "for hit in results[0]:\n",
    "    print(\"💡 Top Match:\", hit.entity.get(\"content\"), \"→ Score:\", hit.distance)"
   ]
  },
  {
   "cell_type": "code",
   "execution_count": 33,
   "id": "01793b2e",
   "metadata": {},
   "outputs": [],
   "source": [
    "collection.create_index(\n",
    "    field_name=\"embedding\",\n",
    "    index_params={\"index_type\": \"AUTOINDEX\", \"metric_type\": \"COSINE\"}\n",
    ")\n",
    "collection.load()"
   ]
  },
  {
   "cell_type": "code",
   "execution_count": 2,
   "id": "c9948b47",
   "metadata": {},
   "outputs": [
    {
     "name": "stdout",
     "output_type": "stream",
     "text": [
      "[[-0.0151267   0.06271887  0.11397745 ... -0.03558155 -0.03983023\n",
      "  -0.04348071]\n",
      " [-0.06026062  0.08771145 -0.06173638 ... -0.06180822 -0.00445606\n",
      "   0.03151754]\n",
      " [-0.01856996 -0.02781065  0.0148665  ... -0.03499598 -0.02098577\n",
      "   0.01342641]]\n"
     ]
    }
   ],
   "source": [
    "from sentence_transformers import SentenceTransformer\n",
    "\n",
    "# Load pre-trained embedding model\n",
    "model = SentenceTransformer('all-MiniLM-L6-v2')\n",
    "\n",
    "# Sample Walmart content (e.g., product or policy document)\n",
    "docs = [\n",
    "    \"Return policy: Electronics must be returned within 45 days.\",\n",
    "    \"Product: ₹999 kids backpack with cartoon print and zip pockets.\",\n",
    "    \"Order placed after 8 PM will ship next day from Pune warehouse.\"\n",
    "]\n",
    "\n",
    "# Generate embeddings\n",
    "embeddings = model.encode(docs)\n",
    "print(embeddings)"
   ]
  },
  {
   "cell_type": "markdown",
   "id": "bc26568d",
   "metadata": {},
   "source": [
    "collection.create_index(...)\n",
    "\n",
    "It creates a vector index on the field named \"embedding\" in the collection. This index makes similarity search faster.\n",
    "\n",
    "Parameters Explained:\n",
    "\n",
    "field_name=\"embedding\"\n",
    "\t•\tRefers to the vector field you stored (e.g., OpenAI or BERT embeddings).\n",
    "\t•\tThe field must be of type FLOAT_VECTOR.\n",
    "\n",
    "index_params={\"index_type\": \"AUTOINDEX\", \"metric_type\": \"COSINE\"}''\n",
    "\n",
    "index_type: \"AUTOINDEX\"\n",
    "\t•\tYou don’t manually pick IVF_FLAT, HNSW, etc.\n",
    "\t•\tMilvus automatically selects the best index based on:\n",
    "\t•\tVector dimension\n",
    "\t•\tData size\n",
    "\t•\tSearch speed vs accuracy\n",
    "\n",
    "Ideal for beginners or dynamic pipelines. You let Milvus decide the optimal ANN strategy.\n",
    "\n",
    "metric_type: \"COSINE\"\n",
    "\t•\tSpecifies how to measure vector similarity.\n",
    "\t•\tCOSINE is used when you care about direction (not magnitude).\n",
    "\t•\tOther options: \"L2\" (Euclidean), \"IP\" (Inner Product).\n",
    "\n",
    "In LLM and NLP use cases like RAG, COSINE similarity is commonly used.\n",
    "\n",
    "⸻\n",
    "Summary: What this does?\n",
    "\n",
    "Creates an auto-optimized index for fast similarity search on embeddings using cosine similarity."
   ]
  },
  {
   "cell_type": "markdown",
   "id": "ab826fcd",
   "metadata": {},
   "source": [
    "Step 1: Define the User Query\n",
    "\n",
    "query = \"What is the return policy for electronics?\"\n",
    "\n",
    "You are simulating a natural language question, just like a Walmart employee or customer might ask.\n",
    "\n",
    "⸻\n",
    " Step 2: Convert Query to Embedding\n",
    "\n",
    "query_embedding = model.encode([query]).tolist()\n",
    "\n",
    "🔍 What’s happening here:\n",
    "\t•\tmodel.encode(...) converts the query to a vector embedding using a model like:\n",
    "\t•\tsentence-transformers (e.g., all-MiniLM-L6-v2)\n",
    "\t•\tOpenAI (text-embedding-ada-002) or Azure OpenAI\n",
    "\n",
    "\n",
    "data=query_embedding\tThe vector you’re searching with (your query embedding)\n",
    "anns_field=\"embedding\"\tName of the field in your collection where document vectors are stored\n",
    "\n",
    "param={\"metric_type\": \"COSINE\", \"params\": {\"nprobe\": 10}}\t\n",
    "\n",
    "Use cosine similarity. \n",
    "nprobe controls search depth – higher = better recall\n",
    "\n",
    "limit=1\tReturn the top 1 most similar result\n",
    "output_fields=[\"content\"]\tAlso return the actual document content (text), not just vector match info"
   ]
  },
  {
   "cell_type": "markdown",
   "id": "169268f2",
   "metadata": {},
   "source": [
    "for hit in results[0]:\n",
    "    print(\"💡 Top Match:\", hit.entity.get(\"content\"), \"→ Score:\", hit.distance)\n",
    "\n",
    "🔍 What this does:\n",
    "\t•\tresults[0] is the list of matches for your single query.\n",
    "\t•\thit.entity.get(\"content\") gets the actual text chunk (e.g., policy paragraph).\n",
    "\t•\thit.distance is the similarity score (lower is better for L2, higher is better for cosine).\n",
    "\n",
    "📌 Example output:\n",
    "\n",
    "💡 Top Match: \"Walmart allows returns of electronics within 30 days of purchase with a receipt.\" → Score: 0.91\n",
    "Lower L2 distance = More similar\n",
    "\t•\tHigher L2 distance = Less similar\n"
   ]
  }
 ],
 "metadata": {
  "kernelspec": {
   "display_name": "Python 3",
   "language": "python",
   "name": "python3"
  },
  "language_info": {
   "codemirror_mode": {
    "name": "ipython",
    "version": 3
   },
   "file_extension": ".py",
   "mimetype": "text/x-python",
   "name": "python",
   "nbconvert_exporter": "python",
   "pygments_lexer": "ipython3",
   "version": "3.13.5"
  }
 },
 "nbformat": 4,
 "nbformat_minor": 5
}
